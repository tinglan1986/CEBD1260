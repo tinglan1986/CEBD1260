{
 "cells": [
  {
   "cell_type": "markdown",
   "metadata": {},
   "source": [
    "![GitHub Logo](http://spark-mooc.github.io/web-assets/images/ta_Spark-logo-small.png)\n",
    "![GitHub Logo](http://spark-mooc.github.io/web-assets/images/python-logo-master-v3-TM-flattene\n",
    "d_small.png)"
   ]
  },
  {
   "cell_type": "markdown",
   "metadata": {},
   "source": [
    "## Kmeans Clustering with Scikit-Learn Assignment"
   ]
  },
  {
   "cell_type": "markdown",
   "metadata": {},
   "source": [
    "In this assignment we will be using scikit-learn to identify client segemnts in a database of customers from a wholesale retailer.\n",
    "\n",
    "1. FRESH: annual spending (m.u.) on fresh products (Continuous);\n",
    "2. MILK: annual spending (m.u.) on milk products (Continuous);\n",
    "3. GROCERY: annual spending (m.u.)on grocery products (Continuous);\n",
    "4. FROZEN: annual spending (m.u.)on frozen products (Continuous);\n",
    "5. DETERGENTS_PAPER: annual spending (m.u.) on detergents and paper products (Continuous);\n",
    "6. DELICATESSEN: annual spending (m.u.)on and delicatessen products (Continuous);"
   ]
  },
  {
   "cell_type": "markdown",
   "metadata": {},
   "source": [
    "First, we need to load the appropriate libraries for cleaning the data and then running a kMeans clustering algorithm. Again, we also set a random seed for replication."
   ]
  },
  {
   "cell_type": "code",
   "execution_count": 1,
   "metadata": {},
   "outputs": [],
   "source": [
    "from sklearn import cluster\n",
    "import pandas as pd\n",
    "import numpy as np\n",
    "np.random.seed(100)"
   ]
  },
  {
   "cell_type": "markdown",
   "metadata": {},
   "source": [
    "Here we use the read_csv function from pandas to read in our dataset and take a subset of variables used for training."
   ]
  },
  {
   "cell_type": "code",
   "execution_count": 2,
   "metadata": {},
   "outputs": [],
   "source": [
    "df = pd.read_csv('Wholesale_customers_data.csv')\n",
    "df = df[['Fresh','Milk','Grocery','Frozen','Detergents_Paper','Delicassen']]"
   ]
  },
  {
   "cell_type": "markdown",
   "metadata": {},
   "source": [
    "Next, we use the KMeans function to group the data into three natural clusters. We can then print out the assigned labels using .labels_"
   ]
  },
  {
   "cell_type": "code",
   "execution_count": 3,
   "metadata": {},
   "outputs": [
    {
     "data": {
      "text/plain": [
       "array([0, 0, 0, 0, 1, 0, 0, 0, 0, 2, 0, 0, 1, 0, 1, 0, 0, 0, 0, 0, 0, 0, 1,\n",
       "       2, 1, 0, 0, 0, 2, 1, 0, 0, 0, 1, 0, 0, 1, 0, 2, 1, 1, 0, 0, 2, 0, 2,\n",
       "       2, 2, 0, 2, 0, 0, 1, 0, 1, 0, 2, 0, 0, 0, 0, 2, 0, 0, 0, 2, 0, 0, 0,\n",
       "       0, 0, 0, 0, 0, 0, 0, 0, 2, 0, 0, 0, 0, 0, 0, 0, 2, 2, 1, 0, 1, 0, 0,\n",
       "       2, 0, 0, 0, 0, 0, 0, 0, 0, 0, 0, 1, 0, 0, 0, 0, 0, 2, 0, 2, 0, 0, 0,\n",
       "       0, 0, 0, 0, 0, 0, 0, 0, 0, 1, 1, 0, 0, 0, 1, 0, 0, 0, 0, 0, 0, 0, 0,\n",
       "       0, 0, 0, 1, 1, 0, 0, 2, 0, 0, 0, 1, 0, 0, 0, 0, 0, 2, 0, 0, 0, 0, 0,\n",
       "       0, 0, 2, 0, 2, 0, 0, 0, 0, 0, 2, 0, 2, 0, 0, 1, 0, 0, 0, 0, 1, 0, 1,\n",
       "       0, 0, 0, 0, 0, 0, 0, 0, 0, 0, 0, 0, 1, 0, 0, 0, 2, 2, 1, 0, 0, 2, 0,\n",
       "       0, 0, 2, 0, 2, 0, 0, 0, 0, 2, 0, 0, 0, 0, 0, 0, 0, 0, 0, 0, 0, 0, 0,\n",
       "       0, 0, 1, 0, 0, 0, 0, 0, 0, 1, 1, 1, 0, 0, 0, 0, 0, 0, 0, 0, 0, 2, 0,\n",
       "       1, 0, 1, 0, 0, 1, 1, 0, 0, 1, 0, 0, 2, 2, 0, 2, 0, 0, 0, 0, 1, 0, 0,\n",
       "       1, 0, 0, 0, 0, 0, 1, 1, 1, 1, 0, 0, 0, 1, 0, 0, 0, 0, 0, 0, 0, 0, 0,\n",
       "       0, 0, 2, 0, 0, 2, 0, 2, 0, 0, 2, 0, 1, 2, 0, 0, 0, 0, 0, 0, 2, 0, 0,\n",
       "       0, 0, 1, 1, 0, 0, 0, 0, 0, 2, 0, 2, 0, 1, 0, 0, 0, 0, 0, 0, 0, 2, 0,\n",
       "       0, 0, 1, 0, 2, 0, 2, 0, 2, 0, 0, 0, 0, 0, 0, 0, 0, 0, 0, 0, 0, 0, 0,\n",
       "       0, 0, 1, 0, 0, 0, 0, 0, 0, 1, 0, 0, 1, 0, 1, 0, 2, 0, 0, 0, 0, 0, 0,\n",
       "       0, 0, 1, 0, 0, 0, 0, 0, 0, 0, 1, 1, 1, 0, 0, 1, 2, 0, 0, 0, 0, 0, 0,\n",
       "       0, 0, 0, 0, 2, 0, 0, 0, 1, 0, 0, 0, 0, 1, 0, 0, 0, 0, 0, 0, 0, 1, 1,\n",
       "       2, 0, 0], dtype=int32)"
      ]
     },
     "execution_count": 3,
     "metadata": {},
     "output_type": "execute_result"
    }
   ],
   "source": [
    "k_means = cluster.KMeans(n_clusters=3)\n",
    "k_means.fit(df) \n",
    "k_means.labels_"
   ]
  },
  {
   "cell_type": "markdown",
   "metadata": {},
   "source": [
    "Here we take a subset of the observations in our wholesale customer database that were assigned to cluster 0 and print out the average spent per category of purchases as well as the total. We can inspect the observations in cluster 0 by using: df.loc[i,]"
   ]
  },
  {
   "cell_type": "code",
   "execution_count": 4,
   "metadata": {},
   "outputs": [
    {
     "name": "stdout",
     "output_type": "stream",
     "text": [
      "Mean:\n",
      "Fresh               8253.469697\n",
      "Milk                3824.603030\n",
      "Grocery             5280.454545\n",
      "Frozen              2572.660606\n",
      "Detergents_Paper    1773.057576\n",
      "Delicassen          1137.496970\n",
      "dtype: float64\n",
      "\n",
      "Total:\n",
      "3806.95707071\n"
     ]
    }
   ],
   "source": [
    "i, = np.where(k_means.labels_==0)\n",
    "print('Mean:')\n",
    "print(df.loc[i,].mean())\n",
    "print('\\nTotal:')\n",
    "print(df.loc[i,].mean().sum()/6)\n",
    "\n",
    "# df.loc[i,]"
   ]
  },
  {
   "cell_type": "markdown",
   "metadata": {},
   "source": [
    "#### Here is cluster 1"
   ]
  },
  {
   "cell_type": "code",
   "execution_count": 5,
   "metadata": {},
   "outputs": [
    {
     "name": "stdout",
     "output_type": "stream",
     "text": [
      "Mean:\n",
      "Fresh               35941.400000\n",
      "Milk                 6044.450000\n",
      "Grocery              6288.616667\n",
      "Frozen               6713.966667\n",
      "Detergents_Paper     1039.666667\n",
      "Delicassen           3049.466667\n",
      "dtype: float64\n",
      "\n",
      "Total:\n",
      "9846.26111111\n"
     ]
    }
   ],
   "source": [
    "i, = np.where(k_means.labels_==1)\n",
    "print('Mean:')\n",
    "print(df.loc[i,].mean())\n",
    "print('\\nTotal:')\n",
    "print(df.loc[i,].mean().sum()/6)\n",
    "\n",
    "# df.loc[i,]"
   ]
  },
  {
   "cell_type": "markdown",
   "metadata": {},
   "source": [
    "#### And cluster 2"
   ]
  },
  {
   "cell_type": "code",
   "execution_count": 6,
   "metadata": {},
   "outputs": [
    {
     "name": "stdout",
     "output_type": "stream",
     "text": [
      "Mean:\n",
      "Fresh                8000.04\n",
      "Milk                18511.42\n",
      "Grocery             27573.90\n",
      "Frozen               1996.68\n",
      "Detergents_Paper    12407.36\n",
      "Delicassen           2252.02\n",
      "dtype: float64\n",
      "\n",
      "Total:\n",
      "11790.2366667\n"
     ]
    }
   ],
   "source": [
    "i, = np.where(k_means.labels_==2)\n",
    "print('Mean:')\n",
    "print(df.loc[i,].mean())\n",
    "print('\\nTotal:')\n",
    "print(df.loc[i,].mean().sum()/6)\n",
    "\n",
    "# df.loc[i,]"
   ]
  },
  {
   "cell_type": "markdown",
   "metadata": {},
   "source": [
    "#### It looks like the clusters indicate that there are three customer segments: small (~3,800), medium ( ~9,845 ), and high ( ~11,790) spending groups."
   ]
  }
 ],
 "metadata": {
  "kernelspec": {
   "display_name": "Python 3",
   "language": "python",
   "name": "python3"
  },
  "language_info": {
   "codemirror_mode": {
    "name": "ipython",
    "version": 3
   },
   "file_extension": ".py",
   "mimetype": "text/x-python",
   "name": "python",
   "nbconvert_exporter": "python",
   "pygments_lexer": "ipython3",
   "version": "3.6.2"
  }
 },
 "nbformat": 4,
 "nbformat_minor": 2
}
